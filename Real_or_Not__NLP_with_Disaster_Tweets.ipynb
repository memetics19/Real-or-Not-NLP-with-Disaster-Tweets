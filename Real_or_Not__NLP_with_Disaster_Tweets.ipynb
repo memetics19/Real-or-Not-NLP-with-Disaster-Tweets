{
  "nbformat": 4,
  "nbformat_minor": 0,
  "metadata": {
    "colab": {
      "name": "Real or Not? NLP with Disaster Tweets.ipynb",
      "provenance": [],
      "collapsed_sections": [],
      "toc_visible": true
    },
    "kernelspec": {
      "name": "python3",
      "display_name": "Python 3"
    }
  },
  "cells": [
    {
      "cell_type": "code",
      "metadata": {
        "id": "6rrlYGTz3LHc",
        "colab_type": "code",
        "colab": {}
      },
      "source": [
        "#loading libraries\n",
        "import pandas as pd\n"
      ],
      "execution_count": null,
      "outputs": []
    },
    {
      "cell_type": "code",
      "metadata": {
        "id": "5Y7ykOzQ4PzD",
        "colab_type": "code",
        "colab": {
          "base_uri": "https://localhost:8080/",
          "height": 255
        },
        "outputId": "3a73e1e3-ae71-411c-9a48-13780a8f6a88"
      },
      "source": [
        "#reading the data \n",
        "df = pd.read_csv(\"train.csv\")\n",
        "print(df)\n",
        "\n",
        "#dummy variables\n",
        "id = df[\"id\"]\n",
        "location = df[\"location\"]\n",
        "keyword = df[\"keyword\"]"
      ],
      "execution_count": null,
      "outputs": [
        {
          "output_type": "stream",
          "text": [
            "         id keyword  ...                                               text target\n",
            "0         1     NaN  ...  Our Deeds are the Reason of this #earthquake M...      1\n",
            "1         4     NaN  ...             Forest fire near La Ronge Sask. Canada      1\n",
            "2         5     NaN  ...  All residents asked to 'shelter in place' are ...      1\n",
            "3         6     NaN  ...  13,000 people receive #wildfires evacuation or...      1\n",
            "4         7     NaN  ...  Just got sent this photo from Ruby #Alaska as ...      1\n",
            "...     ...     ...  ...                                                ...    ...\n",
            "7608  10869     NaN  ...  Two giant cranes holding a bridge collapse int...      1\n",
            "7609  10870     NaN  ...  @aria_ahrary @TheTawniest The out of control w...      1\n",
            "7610  10871     NaN  ...  M1.94 [01:04 UTC]?5km S of Volcano Hawaii. htt...      1\n",
            "7611  10872     NaN  ...  Police investigating after an e-bike collided ...      1\n",
            "7612  10873     NaN  ...  The Latest: More Homes Razed by Northern Calif...      1\n",
            "\n",
            "[7613 rows x 5 columns]\n"
          ],
          "name": "stdout"
        }
      ]
    },
    {
      "cell_type": "code",
      "metadata": {
        "id": "a-_-17QlS8DK",
        "colab_type": "code",
        "colab": {
          "base_uri": "https://localhost:8080/",
          "height": 255
        },
        "outputId": "96e6b480-ecfa-4d75-c75f-e05e52555899"
      },
      "source": [
        "#removing irrelevant features\n",
        "df = df.drop(columns=[\"id\",\"location\",\"keyword\"],axis=1)\n",
        "print(df)"
      ],
      "execution_count": null,
      "outputs": [
        {
          "output_type": "stream",
          "text": [
            "                                                   text  target\n",
            "0     Our Deeds are the Reason of this #earthquake M...       1\n",
            "1                Forest fire near La Ronge Sask. Canada       1\n",
            "2     All residents asked to 'shelter in place' are ...       1\n",
            "3     13,000 people receive #wildfires evacuation or...       1\n",
            "4     Just got sent this photo from Ruby #Alaska as ...       1\n",
            "...                                                 ...     ...\n",
            "7608  Two giant cranes holding a bridge collapse int...       1\n",
            "7609  @aria_ahrary @TheTawniest The out of control w...       1\n",
            "7610  M1.94 [01:04 UTC]?5km S of Volcano Hawaii. htt...       1\n",
            "7611  Police investigating after an e-bike collided ...       1\n",
            "7612  The Latest: More Homes Razed by Northern Calif...       1\n",
            "\n",
            "[7613 rows x 2 columns]\n"
          ],
          "name": "stdout"
        }
      ]
    },
    {
      "cell_type": "markdown",
      "metadata": {
        "id": "zb4MUyLS49j8",
        "colab_type": "text"
      },
      "source": [
        "# **Data preparation**"
      ]
    },
    {
      "cell_type": "markdown",
      "metadata": {
        "id": "LHF2SAhOulqd",
        "colab_type": "text"
      },
      "source": [
        "**Data Cleaning**"
      ]
    },
    {
      "cell_type": "markdown",
      "metadata": {
        "id": "YBYUlMih-D7A",
        "colab_type": "text"
      },
      "source": [
        "Checking for missing values"
      ]
    },
    {
      "cell_type": "code",
      "metadata": {
        "id": "1HeJtCLc4XpU",
        "colab_type": "code",
        "colab": {
          "base_uri": "https://localhost:8080/",
          "height": 68
        },
        "outputId": "d65ae771-af2e-4cb1-8835-dd0605eed78e"
      },
      "source": [
        "#Dropping variables that has more than 60 percent missing values\n",
        "\n",
        "#Checking the percentage missing values by columns\n",
        "missing_column = (df.isna().sum()/len(df))*100\n",
        "print(missing_column)\n",
        "\n"
      ],
      "execution_count": null,
      "outputs": [
        {
          "output_type": "stream",
          "text": [
            "text      0.0\n",
            "target    0.0\n",
            "dtype: float64\n"
          ],
          "name": "stdout"
        }
      ]
    },
    {
      "cell_type": "markdown",
      "metadata": {
        "id": "nL9WqeJBVL7F",
        "colab_type": "text"
      },
      "source": [
        "checking for duplicate values"
      ]
    },
    {
      "cell_type": "code",
      "metadata": {
        "id": "Suo6PcEA5Us7",
        "colab_type": "code",
        "colab": {
          "base_uri": "https://localhost:8080/",
          "height": 34
        },
        "outputId": "ce98e54f-2bf6-46c7-f35f-2063dc7f429c"
      },
      "source": [
        "duplicate = df.duplicated().sum()\n",
        "print(duplicate)#we can see that there are duplicates values\n",
        "\n",
        "#dropping duplicates\n",
        "df = df.drop_duplicates()\n"
      ],
      "execution_count": null,
      "outputs": [
        {
          "output_type": "stream",
          "text": [
            "92\n"
          ],
          "name": "stdout"
        }
      ]
    },
    {
      "cell_type": "markdown",
      "metadata": {
        "id": "OMxBxTuuycnK",
        "colab_type": "text"
      },
      "source": [
        "Cleaning the text column"
      ]
    },
    {
      "cell_type": "code",
      "metadata": {
        "id": "ThsiNP2R70yL",
        "colab_type": "code",
        "colab": {}
      },
      "source": [
        "#By observing the data we can see that some text contains external links (\"http://\"..) which are irrelevant\n",
        "df[\"text\"] = df['text'].str.replace('http\\S+|www.\\S+', '', case=False)"
      ],
      "execution_count": null,
      "outputs": []
    },
    {
      "cell_type": "markdown",
      "metadata": {
        "id": "w-__XHfKXYiV",
        "colab_type": "text"
      },
      "source": [
        "Removing punctuations"
      ]
    },
    {
      "cell_type": "code",
      "metadata": {
        "id": "UYSm-n9DXsTB",
        "colab_type": "code",
        "colab": {
          "base_uri": "https://localhost:8080/",
          "height": 34
        },
        "outputId": "663228c3-ce36-4b36-dd86-ccedbd51fafb"
      },
      "source": [
        "df[\"text\"] = df[\"text\"].str.replace('[^\\w\\s]','')\n",
        "\n",
        "\n",
        "#changing the special characters to the usual alphabet letters\n",
        "df['text'] = df[\"text\"].str.normalize('NFKD').str.encode('ascii', errors='ignore').str.decode('utf-8')\n"
      ],
      "execution_count": null,
      "outputs": [
        {
          "output_type": "stream",
          "text": [
            "None\n"
          ],
          "name": "stdout"
        }
      ]
    },
    {
      "cell_type": "code",
      "metadata": {
        "id": "SvPzLs2J_SKM",
        "colab_type": "code",
        "colab": {}
      },
      "source": [
        "\"\"\"\n",
        "Removing stop words from texts\n",
        "Removing stopwords can potentially help improve the performance as \n",
        "there are fewer and only meaningful tokens left.\n",
        "Thus, it could increase classification accuracy.\n",
        "\"\"\"\n",
        "import nltk\n",
        "from nltk.corpus import stopwords\n",
        "#nltk.download('stopwords')\n",
        "\n",
        "stop_words = stopwords.words('english')\n"
      ],
      "execution_count": null,
      "outputs": []
    },
    {
      "cell_type": "code",
      "metadata": {
        "id": "1kzOaROMXq3B",
        "colab_type": "code",
        "colab": {}
      },
      "source": [
        ""
      ],
      "execution_count": null,
      "outputs": []
    },
    {
      "cell_type": "markdown",
      "metadata": {
        "id": "4dcHrGmVuY3y",
        "colab_type": "text"
      },
      "source": [
        ""
      ]
    },
    {
      "cell_type": "code",
      "metadata": {
        "id": "sOCUKvf9AV_P",
        "colab_type": "code",
        "colab": {}
      },
      "source": [
        ""
      ],
      "execution_count": null,
      "outputs": []
    },
    {
      "cell_type": "code",
      "metadata": {
        "id": "S7vYjQkYkNMe",
        "colab_type": "code",
        "colab": {}
      },
      "source": [
        ""
      ],
      "execution_count": null,
      "outputs": []
    }
  ]
}