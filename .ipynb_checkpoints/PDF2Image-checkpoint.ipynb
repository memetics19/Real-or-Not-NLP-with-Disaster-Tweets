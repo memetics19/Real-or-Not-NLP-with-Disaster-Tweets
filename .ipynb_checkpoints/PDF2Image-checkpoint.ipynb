{
 "cells": [
  {
   "cell_type": "markdown",
   "metadata": {},
   "source": [
    "# Setup\n",
    "\n",
    "Please install  poppler in the conda environment by using `conda install -c conda-forge poppler`"
   ]
  },
  {
   "cell_type": "code",
   "execution_count": 1,
   "metadata": {},
   "outputs": [],
   "source": [
    "#!pip install pdf2image\n",
    "import os\n",
    "import time\n",
    "import warnings\n",
    "from PIL import Image\n",
    "Image.MAX_IMAGE_PIXELS = None\n",
    "warnings.filterwarnings(\"ignore\")\n",
    "\n",
    "from pdf2image import convert_from_path\n"
   ]
  },
  {
   "cell_type": "markdown",
   "metadata": {},
   "source": [
    "# Setting up the path\n",
    "\n",
    "Please replace the current working directory with local path "
   ]
  },
  {
   "cell_type": "code",
   "execution_count": 2,
   "metadata": {},
   "outputs": [
    {
     "name": "stdout",
     "output_type": "stream",
     "text": [
      "Current Working Directory C:\\Users\\Lenovo\\Downloads\\SpanishFlu-PDF\\Coronawhy\n"
     ]
    }
   ],
   "source": [
    "cwd = \"C:\\\\Users\\\\Lenovo\\\\Downloads\\\\SpanishFlu-PDF\\\\Coronawhy\"# Replace with your local pc path\n",
    "os.chdir(cwd)\n",
    "print('Current Working Directory',os.getcwd())\n",
    "# data_save = \"C:\\\\Users\\\\Lenovo\\\\Downloads\""
   ]
  },
  {
   "cell_type": "markdown",
   "metadata": {},
   "source": [
    "# List all the pdf from the working directory \n"
   ]
  },
  {
   "cell_type": "code",
   "execution_count": 3,
   "metadata": {},
   "outputs": [
    {
     "name": "stdout",
     "output_type": "stream",
     "text": [
      "['10021978.pdf', '2004260419.pdf', '2010218519.pdf', '2010270500.pdf', '2010270501.pdf', '2010270504.pdf', 'sn00063520.pdf', 'sn00063676.pdf', 'sn00065154.pdf', 'sn2001063549.pdf', 'sn2008060406.pdf', 'sn78000395.pdf', 'sn78000873.pdf', 'sn82007642.pdf', 'sn82014086.pdf', 'sn82014189.pdf', 'sn82014689.pdf', 'sn82015387.pdf', 'sn82015411.pdf', 'sn82015485.pdf', 'sn82015761.pdf', 'sn82016014.pdf', 'sn83004226.pdf', 'sn83016758.pdf', 'sn83016810.pdf', 'sn83016943.pdf', 'sn83025458.pdf', 'sn83030193.pdf', 'sn83030214.pdf', 'sn83030273.pdf', 'sn83030431.pdf', 'sn83040592.pdf', 'sn83045085.pdf', 'sn83045211.pdf', 'sn83045389.pdf', 'sn83045395.pdf', 'sn83045433.pdf', 'sn83045462.pdf', 'sn84020558.pdf', 'sn84020657.pdf', 'sn84021930.pdf', 'sn84022770.pdf', 'sn84022835.pdf', 'sn84023416.pdf', 'sn84023963.pdf', 'sn84024283.pdf', 'sn84024779.pdf', 'sn84024808.pdf', 'sn84024827.pdf', 'sn84025841.pdf', 'sn84025842.pdf', 'sn84026688.pdf', 'sn84026749.pdf', 'sn84026758.pdf', 'sn84026820.pdf', 'sn84026824.pdf', 'sn84026853.pdf', 'sn84026897.pdf', 'sn84026912.pdf', 'sn84026925.pdf', 'sn84027621.pdf', 'sn84028262.pdf', 'sn84028473.pdf', 'sn84029386.pdf', 'sn84029690.pdf', 'sn84031081.pdf', 'sn84036290.pdf', 'sn84037217.pdf', 'sn84037890.pdf', 'sn84038095.pdf', 'sn84038306.pdf', 'sn84038335.pdf', 'sn85000631.pdf', 'sn85007266.pdf', 'sn85025007.pdf', 'sn85025570.pdf', 'sn85029856.pdf', 'sn85032923.pdf', 'sn85033139.pdf', 'sn85033162.pdf', 'sn85033781.pdf', 'sn85034322.pdf', 'sn85034357.pdf', 'sn85034375.pdf', 'sn85035720.pdf', 'sn85038022.pdf', 'sn85038292.pdf', 'sn85038411.pdf', 'sn85038531.pdf', 'sn85040245.pdf', 'sn85040437.pdf', 'sn85040451.pdf', 'sn85040652.pdf', 'sn85040705.pdf', 'sn85040720.pdf', 'sn85040749.pdf', 'sn85042224.pdf', 'sn85042243.pdf', 'sn85042303.pdf', 'sn85042344.pdf', 'sn85042345.pdf', 'sn85042354.pdf', 'sn85042379.pdf', 'sn85042399.pdf', 'sn85042405.pdf', 'sn85042414.pdf', 'sn85042757.pdf', 'sn85042907.pdf', 'sn85047611.pdf', 'sn85049554.pdf', 'sn85049804.pdf', 'sn85050913.pdf', 'sn85052023.pdf', 'sn85052076.pdf', 'sn85052141.pdf', 'sn85053024.pdf', 'sn85053305.pdf', 'sn85058246.pdf', 'sn85058393.pdf', 'sn85058396.pdf', 'sn85059591.pdf', 'sn86058226.pdf', 'sn86058242.pdf', 'sn86063041.pdf', 'sn86063147.pdf', 'sn86063289.pdf', 'sn86063381.pdf', 'sn86063397.pdf', 'sn86063579.pdf', 'sn86063730.pdf', 'sn86063758.pdf', 'sn86063760.pdf', 'sn86063761.pdf', 'sn86063774.pdf', 'sn86063778.pdf', 'sn86063790.pdf', 'sn86063952.pdf', 'sn86064118.pdf', 'sn86064187.pdf', 'sn86064239.pdf', 'sn86064259.pdf', 'sn86069168.pdf', 'sn86069201.pdf', 'sn86069309.pdf', 'sn86069313.pdf', 'sn86069398.pdf', 'sn86069461.pdf', 'sn86069496.pdf', 'sn86069561.pdf', 'sn86069675.pdf', 'sn86069873.pdf', 'sn86071063.pdf', 'sn86071134.pdf', 'sn86071278.pdf', 'sn86071593.pdf', 'sn86072054.pdf', 'sn86072239.pdf', 'sn86074011.pdf', 'sn86074065.pdf', 'sn86076216.pdf', 'sn86076241.pdf', 'sn86079080.pdf', 'sn86086068.pdf', 'sn86086499.pdf', 'sn86088049.pdf', 'sn86088055.pdf', 'sn86090233.pdf', 'sn86090528.pdf', 'sn86091084.pdf', 'sn86091092.pdf', 'sn86091096.pdf', 'sn86091099.pdf', 'sn86091100.pdf', 'sn86091111.pdf', 'sn86091128.pdf', 'sn86091130.pdf', 'sn86091145.pdf', 'sn86091188.pdf', 'sn86091197.pdf', 'sn86091255.pdf', 'sn86092536.pdf', 'sn87052181.pdf', 'sn87055779.pdf', 'sn87057096.pdf', 'sn87057262.pdf', 'sn87057934.pdf', 'sn87058075.pdf', 'sn87058235.pdf', 'sn87060032.pdf', 'sn87062016.pdf', 'sn87062055.pdf', 'sn87062268.pdf', 'sn87065069.pdf', 'sn87065341.pdf', 'sn87065462.pdf', 'sn87065469.pdf', 'sn87065497.pdf', 'sn87065498.pdf', 'sn87065531.pdf', 'sn87065609.pdf', 'sn87065612.pdf', 'sn87065645.pdf', 'sn87090135.pdf', 'sn87093039.pdf', 'sn87093042.pdf', 'sn87093353.pdf', 'sn87093407.pdf', 'sn87096017.pdf', 'sn87096037.pdf', 'sn87096040.pdf', 'sn88056024.pdf', 'sn88056093.pdf', 'sn88056159.pdf', 'sn88061179.pdf', 'sn88064020.pdf', 'sn88064055.pdf', 'sn88064057.pdf', 'sn88064094.pdf', 'sn88064176.pdf', 'sn88064250.pdf', 'sn88064278.pdf', 'sn88064293.pdf', 'sn88064299.pdf', 'sn88064317.pdf', 'sn88064323.pdf', 'sn88064328.pdf', 'sn88064384.pdf', 'sn88064402.pdf', 'sn88064430.pdf', 'sn88065726.pdf', 'sn88065731.pdf', 'sn88068010.pdf', 'sn88074815.pdf', 'sn88076095.pdf', 'sn88076270.pdf', 'sn88076421.pdf', 'sn88076432.pdf', 'sn88076525.pdf', 'sn88076639.pdf', 'sn88076741.pdf', 'sn88077067.pdf', 'sn88078751.pdf', 'sn88084272.pdf', 'sn88085318.pdf', 'sn88085445.pdf', 'sn88085488.pdf', 'sn88085620.pdf', 'sn88086023.pdf', 'sn89051130.pdf', 'sn89051213.pdf', 'sn89051338.pdf', 'sn89052038.pdf', 'sn89052040.pdf', 'sn89052133.pdf', 'sn89052329.pdf', 'sn89055004.pdf', 'sn89055082.pdf', 'sn89055128.pdf', 'sn89055184.pdf', 'sn89055199.pdf', 'sn89055223.pdf', 'sn89058013.pdf', 'sn89058027.pdf', 'sn89058115.pdf', 'sn89058133.pdf', 'sn89058154.pdf', 'sn89058168.pdf', 'sn89058250.pdf', 'sn89058318.pdf', 'sn89058336.pdf', 'sn89058354.pdf', 'sn89058364.pdf', 'sn89058370.pdf', 'sn89060136.pdf', 'sn89064515.pdf', 'sn89064695.pdf', 'sn89064914.pdf', 'sn89065008.pdf', 'sn89066315.pdf', 'sn89066651.pdf', 'sn89066901.pdf', 'sn89066996.pdf', 'sn89067273.pdf', 'sn89067274.pdf', 'sn89067390.pdf', 'sn89074274.pdf', 'sn89081022.pdf', 'sn90050260.pdf', 'sn90050306.pdf', 'sn90050361.pdf', 'sn90051006.pdf', 'sn90051081.pdf', 'sn90051333.pdf', 'sn90052143.pdf', 'sn90059142.pdf', 'sn90059228.pdf', 'sn90060762.pdf', 'sn90060976.pdf', 'sn90061052.pdf', 'sn90061308.pdf', 'sn90061417.pdf', 'sn90061457.pdf', 'sn90061556.pdf', 'sn90066132.pdf', 'sn91052360.pdf', 'sn91059394.pdf', 'sn91066782.pdf', 'sn91068161.pdf', 'sn91068415.pdf', 'sn91068423.pdf', 'sn91068476.pdf', 'sn91068736.pdf', 'sn91068748.pdf', 'sn92051227.pdf', 'sn92051282.pdf', 'sn92053240.pdf', 'sn92053933.pdf', 'sn92053934.pdf', 'sn92061524.pdf', 'sn92070450.pdf', 'sn92070539.pdf', 'sn92070582.pdf', 'sn92073908.pdf', 'sn92073954.pdf', 'sn93060090.pdf', 'sn93061573.pdf', 'sn93061701.pdf', 'sn93061704.pdf', 'sn93061711.pdf', 'sn93063557.pdf', 'sn93066071.pdf', 'sn93067671.pdf', 'sn93067841.pdf', 'sn93067846.pdf', 'sn93067951.pdf', 'sn94050514.pdf', 'sn94050892.pdf', 'sn94056869.pdf', 'sn94056939.pdf', 'sn94057002.pdf', 'sn94057017.pdf', 'sn95047222.pdf', 'sn95047324.pdf', 'sn95060578.pdf', 'sn95060914.pdf', 'sn95060922.pdf', 'sn95063969.pdf', 'sn95066012.pdf', 'sn95076622.pdf', 'sn95079246.pdf', 'sn96060003.pdf', 'sn96060547.pdf', 'sn96060796.pdf', 'sn96060881.pdf', 'sn96076642.pdf', 'sn96076776.pdf', 'sn96076817.pdf', 'sn96077142.pdf', 'sn96088180.pdf', 'sn96088246.pdf', 'sn96088356.pdf', 'sn96091104.pdf', 'sn97065122.pdf', 'sn97065558.pdf', 'sn97067598.pdf', 'sn97070614.pdf', 'sn97071038.pdf', 'sn97071110.pdf', 'sn98060188.pdf', 'sn98060189.pdf', 'sn98069867.pdf', 'sn99021999.pdf', 'sn99062010.pdf', 'sn99062034.pdf', 'sn99063812.pdf', 'sn99063957.pdf', 'sn99065781.pdf', 'sn99065839.pdf']\n"
     ]
    }
   ],
   "source": [
    "list_pdf = ! dir /b *.pdf\n",
    "print(list_pdf)"
   ]
  },
  {
   "cell_type": "markdown",
   "metadata": {},
   "source": [
    "# PDF2Image Conversion\n",
    "using PDF2Image library, converted the LOC pdf's to image(JPEG) format to pass on to the ocr"
   ]
  },
  {
   "cell_type": "code",
   "execution_count": 4,
   "metadata": {},
   "outputs": [
    {
     "name": "stdout",
     "output_type": "stream",
     "text": [
      "Time taken for 10021978.pdf:1.4690008163452148\n"
     ]
    },
    {
     "ename": "Exception",
     "evalue": " The image size is larger than the PDF",
     "output_type": "error",
     "traceback": [
      "\u001b[1;31m---------------------------------------------------------------------------\u001b[0m",
      "\u001b[1;31mKeyboardInterrupt\u001b[0m                         Traceback (most recent call last)",
      "\u001b[1;32m<ipython-input-4-b2dbb5dc56da>\u001b[0m in \u001b[0;36m<module>\u001b[1;34m\u001b[0m\n\u001b[0;32m      2\u001b[0m      \u001b[1;32mfor\u001b[0m \u001b[0mi\u001b[0m \u001b[1;32min\u001b[0m \u001b[0mlist_pdf\u001b[0m\u001b[1;33m:\u001b[0m\u001b[1;33m\u001b[0m\u001b[1;33m\u001b[0m\u001b[0m\n\u001b[1;32m----> 3\u001b[1;33m         \u001b[0mpages\u001b[0m \u001b[1;33m=\u001b[0m \u001b[0mconvert_from_path\u001b[0m\u001b[1;33m(\u001b[0m\u001b[0mi\u001b[0m\u001b[1;33m,\u001b[0m \u001b[1;36m500\u001b[0m\u001b[1;33m)\u001b[0m\u001b[1;33m\u001b[0m\u001b[1;33m\u001b[0m\u001b[0m\n\u001b[0m\u001b[0;32m      4\u001b[0m         \u001b[1;32mfor\u001b[0m \u001b[0mpage\u001b[0m \u001b[1;32min\u001b[0m \u001b[0mpages\u001b[0m\u001b[1;33m:\u001b[0m\u001b[1;33m\u001b[0m\u001b[1;33m\u001b[0m\u001b[0m\n",
      "\u001b[1;32m~\\anaconda3\\lib\\site-packages\\pdf2image\\pdf2image.py\u001b[0m in \u001b[0;36mconvert_from_path\u001b[1;34m(pdf_path, dpi, output_folder, first_page, last_page, fmt, jpegopt, thread_count, userpw, use_cropbox, strict, transparent, single_file, output_file, poppler_path, grayscale, size, paths_only, use_pdftocairo)\u001b[0m\n\u001b[0;32m    191\u001b[0m     \u001b[1;32mfor\u001b[0m \u001b[0muid\u001b[0m\u001b[1;33m,\u001b[0m \u001b[0mproc\u001b[0m \u001b[1;32min\u001b[0m \u001b[0mprocesses\u001b[0m\u001b[1;33m:\u001b[0m\u001b[1;33m\u001b[0m\u001b[1;33m\u001b[0m\u001b[0m\n\u001b[1;32m--> 192\u001b[1;33m         \u001b[0mdata\u001b[0m\u001b[1;33m,\u001b[0m \u001b[0merr\u001b[0m \u001b[1;33m=\u001b[0m \u001b[0mproc\u001b[0m\u001b[1;33m.\u001b[0m\u001b[0mcommunicate\u001b[0m\u001b[1;33m(\u001b[0m\u001b[1;33m)\u001b[0m\u001b[1;33m\u001b[0m\u001b[1;33m\u001b[0m\u001b[0m\n\u001b[0m\u001b[0;32m    193\u001b[0m \u001b[1;33m\u001b[0m\u001b[0m\n",
      "\u001b[1;32m~\\anaconda3\\lib\\subprocess.py\u001b[0m in \u001b[0;36mcommunicate\u001b[1;34m(self, input, timeout)\u001b[0m\n\u001b[0;32m    963\u001b[0m             \u001b[1;32mtry\u001b[0m\u001b[1;33m:\u001b[0m\u001b[1;33m\u001b[0m\u001b[1;33m\u001b[0m\u001b[0m\n\u001b[1;32m--> 964\u001b[1;33m                 \u001b[0mstdout\u001b[0m\u001b[1;33m,\u001b[0m \u001b[0mstderr\u001b[0m \u001b[1;33m=\u001b[0m \u001b[0mself\u001b[0m\u001b[1;33m.\u001b[0m\u001b[0m_communicate\u001b[0m\u001b[1;33m(\u001b[0m\u001b[0minput\u001b[0m\u001b[1;33m,\u001b[0m \u001b[0mendtime\u001b[0m\u001b[1;33m,\u001b[0m \u001b[0mtimeout\u001b[0m\u001b[1;33m)\u001b[0m\u001b[1;33m\u001b[0m\u001b[1;33m\u001b[0m\u001b[0m\n\u001b[0m\u001b[0;32m    965\u001b[0m             \u001b[1;32mexcept\u001b[0m \u001b[0mKeyboardInterrupt\u001b[0m\u001b[1;33m:\u001b[0m\u001b[1;33m\u001b[0m\u001b[1;33m\u001b[0m\u001b[0m\n",
      "\u001b[1;32m~\\anaconda3\\lib\\subprocess.py\u001b[0m in \u001b[0;36m_communicate\u001b[1;34m(self, input, endtime, orig_timeout)\u001b[0m\n\u001b[0;32m   1295\u001b[0m             \u001b[1;32mif\u001b[0m \u001b[0mself\u001b[0m\u001b[1;33m.\u001b[0m\u001b[0mstdout\u001b[0m \u001b[1;32mis\u001b[0m \u001b[1;32mnot\u001b[0m \u001b[1;32mNone\u001b[0m\u001b[1;33m:\u001b[0m\u001b[1;33m\u001b[0m\u001b[1;33m\u001b[0m\u001b[0m\n\u001b[1;32m-> 1296\u001b[1;33m                 \u001b[0mself\u001b[0m\u001b[1;33m.\u001b[0m\u001b[0mstdout_thread\u001b[0m\u001b[1;33m.\u001b[0m\u001b[0mjoin\u001b[0m\u001b[1;33m(\u001b[0m\u001b[0mself\u001b[0m\u001b[1;33m.\u001b[0m\u001b[0m_remaining_time\u001b[0m\u001b[1;33m(\u001b[0m\u001b[0mendtime\u001b[0m\u001b[1;33m)\u001b[0m\u001b[1;33m)\u001b[0m\u001b[1;33m\u001b[0m\u001b[1;33m\u001b[0m\u001b[0m\n\u001b[0m\u001b[0;32m   1297\u001b[0m                 \u001b[1;32mif\u001b[0m \u001b[0mself\u001b[0m\u001b[1;33m.\u001b[0m\u001b[0mstdout_thread\u001b[0m\u001b[1;33m.\u001b[0m\u001b[0mis_alive\u001b[0m\u001b[1;33m(\u001b[0m\u001b[1;33m)\u001b[0m\u001b[1;33m:\u001b[0m\u001b[1;33m\u001b[0m\u001b[1;33m\u001b[0m\u001b[0m\n",
      "\u001b[1;32m~\\anaconda3\\lib\\threading.py\u001b[0m in \u001b[0;36mjoin\u001b[1;34m(self, timeout)\u001b[0m\n\u001b[0;32m   1043\u001b[0m         \u001b[1;32mif\u001b[0m \u001b[0mtimeout\u001b[0m \u001b[1;32mis\u001b[0m \u001b[1;32mNone\u001b[0m\u001b[1;33m:\u001b[0m\u001b[1;33m\u001b[0m\u001b[1;33m\u001b[0m\u001b[0m\n\u001b[1;32m-> 1044\u001b[1;33m             \u001b[0mself\u001b[0m\u001b[1;33m.\u001b[0m\u001b[0m_wait_for_tstate_lock\u001b[0m\u001b[1;33m(\u001b[0m\u001b[1;33m)\u001b[0m\u001b[1;33m\u001b[0m\u001b[1;33m\u001b[0m\u001b[0m\n\u001b[0m\u001b[0;32m   1045\u001b[0m         \u001b[1;32melse\u001b[0m\u001b[1;33m:\u001b[0m\u001b[1;33m\u001b[0m\u001b[1;33m\u001b[0m\u001b[0m\n",
      "\u001b[1;32m~\\anaconda3\\lib\\threading.py\u001b[0m in \u001b[0;36m_wait_for_tstate_lock\u001b[1;34m(self, block, timeout)\u001b[0m\n\u001b[0;32m   1059\u001b[0m             \u001b[1;32massert\u001b[0m \u001b[0mself\u001b[0m\u001b[1;33m.\u001b[0m\u001b[0m_is_stopped\u001b[0m\u001b[1;33m\u001b[0m\u001b[1;33m\u001b[0m\u001b[0m\n\u001b[1;32m-> 1060\u001b[1;33m         \u001b[1;32melif\u001b[0m \u001b[0mlock\u001b[0m\u001b[1;33m.\u001b[0m\u001b[0macquire\u001b[0m\u001b[1;33m(\u001b[0m\u001b[0mblock\u001b[0m\u001b[1;33m,\u001b[0m \u001b[0mtimeout\u001b[0m\u001b[1;33m)\u001b[0m\u001b[1;33m:\u001b[0m\u001b[1;33m\u001b[0m\u001b[1;33m\u001b[0m\u001b[0m\n\u001b[0m\u001b[0;32m   1061\u001b[0m             \u001b[0mlock\u001b[0m\u001b[1;33m.\u001b[0m\u001b[0mrelease\u001b[0m\u001b[1;33m(\u001b[0m\u001b[1;33m)\u001b[0m\u001b[1;33m\u001b[0m\u001b[1;33m\u001b[0m\u001b[0m\n",
      "\u001b[1;31mKeyboardInterrupt\u001b[0m: ",
      "\nDuring handling of the above exception, another exception occurred:\n",
      "\u001b[1;31mException\u001b[0m                                 Traceback (most recent call last)",
      "\u001b[1;32m<ipython-input-4-b2dbb5dc56da>\u001b[0m in \u001b[0;36m<module>\u001b[1;34m\u001b[0m\n\u001b[0;32m      8\u001b[0m             \u001b[0mprint\u001b[0m \u001b[1;33m(\u001b[0m\u001b[1;34mf\"Time taken for {i}:\"\u001b[0m \u001b[1;33m+\u001b[0m \u001b[0mstr\u001b[0m\u001b[1;33m(\u001b[0m\u001b[0mtime\u001b[0m\u001b[1;33m.\u001b[0m\u001b[0mtime\u001b[0m\u001b[1;33m(\u001b[0m\u001b[1;33m)\u001b[0m \u001b[1;33m-\u001b[0m \u001b[0mstart_time\u001b[0m\u001b[1;33m)\u001b[0m\u001b[1;33m)\u001b[0m\u001b[1;33m\u001b[0m\u001b[1;33m\u001b[0m\u001b[0m\n\u001b[0;32m      9\u001b[0m \u001b[1;32mexcept\u001b[0m\u001b[1;33m:\u001b[0m\u001b[1;33m\u001b[0m\u001b[1;33m\u001b[0m\u001b[0m\n\u001b[1;32m---> 10\u001b[1;33m     \u001b[1;32mraise\u001b[0m \u001b[0mException\u001b[0m\u001b[1;33m(\u001b[0m\u001b[1;34m\" The image size is larger than the PDF\"\u001b[0m\u001b[1;33m)\u001b[0m\u001b[1;33m\u001b[0m\u001b[1;33m\u001b[0m\u001b[0m\n\u001b[0m",
      "\u001b[1;31mException\u001b[0m:  The image size is larger than the PDF"
     ]
    }
   ],
   "source": [
    "\n",
    "try:\n",
    "     for i in list_pdf:\n",
    "        pages = convert_from_path(i, 500)\n",
    "        for page in pages:\n",
    "            start_time = time.time()\n",
    "            fname = str(i[:-4])+\".jpeg\"\n",
    "            page.save(fname, 'JPEG')\n",
    "            print (f\"Time taken for {i}:\" + str(time.time() - start_time))\n",
    "except:\n",
    "    raise Exception(\" The image size is larger than the PDF\")"
   ]
  },
  {
   "cell_type": "code",
   "execution_count": null,
   "metadata": {},
   "outputs": [],
   "source": []
  }
 ],
 "metadata": {
  "kernelspec": {
   "display_name": "Python 3",
   "language": "python",
   "name": "python3"
  },
  "language_info": {
   "codemirror_mode": {
    "name": "ipython",
    "version": 3
   },
   "file_extension": ".py",
   "mimetype": "text/x-python",
   "name": "python",
   "nbconvert_exporter": "python",
   "pygments_lexer": "ipython3",
   "version": "3.7.6"
  }
 },
 "nbformat": 4,
 "nbformat_minor": 4
}
